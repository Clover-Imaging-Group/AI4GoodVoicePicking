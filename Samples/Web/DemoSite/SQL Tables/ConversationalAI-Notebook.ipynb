{
    "metadata": {
        "kernelspec": {
            "name": "SQL",
            "display_name": "SQL",
            "language": "sql"
        },
        "language_info": {
            "name": "sql",
            "version": ""
        }
    },
    "nbformat_minor": 2,
    "nbformat": 4,
    "cells": [
        {
            "cell_type": "code",
            "source": [
                "CREATE SCHEMA ConversationalAI;"
            ],
            "metadata": {
                "azdata_cell_guid": "d5d489d5-8063-453f-b26b-8e5a565492c7"
            },
            "outputs": [
                {
                    "output_type": "display_data",
                    "data": {
                        "text/html": "Commands completed successfully."
                    },
                    "metadata": {}
                },
                {
                    "output_type": "display_data",
                    "data": {
                        "text/html": "Total execution time: 00:00:00.033"
                    },
                    "metadata": {}
                }
            ],
            "execution_count": 1
        },
        {
            "cell_type": "code",
            "source": [
                "GO\n",
                "CREATE TABLE ConversationalAI.Test(TestID UNIQUEIDENTIFIER, UserId nvarchar(450), TestName varchar(255));\n",
                "ALTER TABLE ConversationalAI.Test\n",
                "   ADD CONSTRAINT FK_AspNetUser_Test FOREIGN KEY (UserId)\n",
                "      REFERENCES dbo.AspNetUsers (Id)\n",
                "      ON DELETE CASCADE\n",
                "      ON UPDATE CASCADE\n",
                ";"
            ],
            "metadata": {
                "azdata_cell_guid": "0e8f6880-aaff-4528-a031-292ff19de49a"
            },
            "outputs": [
                {
                    "output_type": "error",
                    "evalue": "Msg 2715, Level 16, State 6, Line 2\nColumn, parameter, or variable #1: Cannot find data type GUID.",
                    "ename": "",
                    "traceback": []
                },
                {
                    "output_type": "display_data",
                    "data": {
                        "text/html": "Total execution time: 00:00:00.011"
                    },
                    "metadata": {}
                }
            ],
            "execution_count": 2
        }
    ]
}